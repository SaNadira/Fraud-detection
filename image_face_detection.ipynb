{
  "nbformat": 4,
  "nbformat_minor": 0,
  "metadata": {
    "colab": {
      "provenance": [],
      "mount_file_id": "1Zi_ZPqHIBfJcludoJI1HKOKcUyUyL0jJ",
      "authorship_tag": "ABX9TyNYNeFhjVhYIoSi79EjN4zm"
    },
    "kernelspec": {
      "name": "python3",
      "display_name": "Python 3"
    },
    "language_info": {
      "name": "python"
    },
    "widgets": {
      "application/vnd.jupyter.widget-state+json": {
        "1390a9f6f55948539e88ef46b87aca48": {
          "model_module": "@jupyter-widgets/controls",
          "model_name": "HBoxModel",
          "model_module_version": "1.5.0",
          "state": {
            "_dom_classes": [],
            "_model_module": "@jupyter-widgets/controls",
            "_model_module_version": "1.5.0",
            "_model_name": "HBoxModel",
            "_view_count": null,
            "_view_module": "@jupyter-widgets/controls",
            "_view_module_version": "1.5.0",
            "_view_name": "HBoxView",
            "box_style": "",
            "children": [
              "IPY_MODEL_19b009e1309840f78993f3917229553b",
              "IPY_MODEL_c4cf18d421ca48a0b9ee79db49538c48",
              "IPY_MODEL_d7364a4a03ef4762a6724ad59021ac01"
            ],
            "layout": "IPY_MODEL_e848dc52ac7246f2b392c4bfa5cba756"
          }
        },
        "19b009e1309840f78993f3917229553b": {
          "model_module": "@jupyter-widgets/controls",
          "model_name": "HTMLModel",
          "model_module_version": "1.5.0",
          "state": {
            "_dom_classes": [],
            "_model_module": "@jupyter-widgets/controls",
            "_model_module_version": "1.5.0",
            "_model_name": "HTMLModel",
            "_view_count": null,
            "_view_module": "@jupyter-widgets/controls",
            "_view_module_version": "1.5.0",
            "_view_name": "HTMLView",
            "description": "",
            "description_tooltip": null,
            "layout": "IPY_MODEL_12a4c508a8494c6f96186e34f1d1cb3e",
            "placeholder": "​",
            "style": "IPY_MODEL_9363d96fe5e349f88d6f175599a14761",
            "value": "100%"
          }
        },
        "c4cf18d421ca48a0b9ee79db49538c48": {
          "model_module": "@jupyter-widgets/controls",
          "model_name": "FloatProgressModel",
          "model_module_version": "1.5.0",
          "state": {
            "_dom_classes": [],
            "_model_module": "@jupyter-widgets/controls",
            "_model_module_version": "1.5.0",
            "_model_name": "FloatProgressModel",
            "_view_count": null,
            "_view_module": "@jupyter-widgets/controls",
            "_view_module_version": "1.5.0",
            "_view_name": "ProgressView",
            "bar_style": "success",
            "description": "",
            "description_tooltip": null,
            "layout": "IPY_MODEL_6b75a303a7434382a53ec2b7c70c18aa",
            "max": 111898327,
            "min": 0,
            "orientation": "horizontal",
            "style": "IPY_MODEL_c26d3708015d4c52b42192c57cf998aa",
            "value": 111898327
          }
        },
        "d7364a4a03ef4762a6724ad59021ac01": {
          "model_module": "@jupyter-widgets/controls",
          "model_name": "HTMLModel",
          "model_module_version": "1.5.0",
          "state": {
            "_dom_classes": [],
            "_model_module": "@jupyter-widgets/controls",
            "_model_module_version": "1.5.0",
            "_model_name": "HTMLModel",
            "_view_count": null,
            "_view_module": "@jupyter-widgets/controls",
            "_view_module_version": "1.5.0",
            "_view_name": "HTMLView",
            "description": "",
            "description_tooltip": null,
            "layout": "IPY_MODEL_210fa9b896a743f48f025eca95aba2ac",
            "placeholder": "​",
            "style": "IPY_MODEL_6c2ff05067cc4907ba814da3bb90b333",
            "value": " 107M/107M [00:00&lt;00:00, 193MB/s]"
          }
        },
        "e848dc52ac7246f2b392c4bfa5cba756": {
          "model_module": "@jupyter-widgets/base",
          "model_name": "LayoutModel",
          "model_module_version": "1.2.0",
          "state": {
            "_model_module": "@jupyter-widgets/base",
            "_model_module_version": "1.2.0",
            "_model_name": "LayoutModel",
            "_view_count": null,
            "_view_module": "@jupyter-widgets/base",
            "_view_module_version": "1.2.0",
            "_view_name": "LayoutView",
            "align_content": null,
            "align_items": null,
            "align_self": null,
            "border": null,
            "bottom": null,
            "display": null,
            "flex": null,
            "flex_flow": null,
            "grid_area": null,
            "grid_auto_columns": null,
            "grid_auto_flow": null,
            "grid_auto_rows": null,
            "grid_column": null,
            "grid_gap": null,
            "grid_row": null,
            "grid_template_areas": null,
            "grid_template_columns": null,
            "grid_template_rows": null,
            "height": null,
            "justify_content": null,
            "justify_items": null,
            "left": null,
            "margin": null,
            "max_height": null,
            "max_width": null,
            "min_height": null,
            "min_width": null,
            "object_fit": null,
            "object_position": null,
            "order": null,
            "overflow": null,
            "overflow_x": null,
            "overflow_y": null,
            "padding": null,
            "right": null,
            "top": null,
            "visibility": null,
            "width": null
          }
        },
        "12a4c508a8494c6f96186e34f1d1cb3e": {
          "model_module": "@jupyter-widgets/base",
          "model_name": "LayoutModel",
          "model_module_version": "1.2.0",
          "state": {
            "_model_module": "@jupyter-widgets/base",
            "_model_module_version": "1.2.0",
            "_model_name": "LayoutModel",
            "_view_count": null,
            "_view_module": "@jupyter-widgets/base",
            "_view_module_version": "1.2.0",
            "_view_name": "LayoutView",
            "align_content": null,
            "align_items": null,
            "align_self": null,
            "border": null,
            "bottom": null,
            "display": null,
            "flex": null,
            "flex_flow": null,
            "grid_area": null,
            "grid_auto_columns": null,
            "grid_auto_flow": null,
            "grid_auto_rows": null,
            "grid_column": null,
            "grid_gap": null,
            "grid_row": null,
            "grid_template_areas": null,
            "grid_template_columns": null,
            "grid_template_rows": null,
            "height": null,
            "justify_content": null,
            "justify_items": null,
            "left": null,
            "margin": null,
            "max_height": null,
            "max_width": null,
            "min_height": null,
            "min_width": null,
            "object_fit": null,
            "object_position": null,
            "order": null,
            "overflow": null,
            "overflow_x": null,
            "overflow_y": null,
            "padding": null,
            "right": null,
            "top": null,
            "visibility": null,
            "width": null
          }
        },
        "9363d96fe5e349f88d6f175599a14761": {
          "model_module": "@jupyter-widgets/controls",
          "model_name": "DescriptionStyleModel",
          "model_module_version": "1.5.0",
          "state": {
            "_model_module": "@jupyter-widgets/controls",
            "_model_module_version": "1.5.0",
            "_model_name": "DescriptionStyleModel",
            "_view_count": null,
            "_view_module": "@jupyter-widgets/base",
            "_view_module_version": "1.2.0",
            "_view_name": "StyleView",
            "description_width": ""
          }
        },
        "6b75a303a7434382a53ec2b7c70c18aa": {
          "model_module": "@jupyter-widgets/base",
          "model_name": "LayoutModel",
          "model_module_version": "1.2.0",
          "state": {
            "_model_module": "@jupyter-widgets/base",
            "_model_module_version": "1.2.0",
            "_model_name": "LayoutModel",
            "_view_count": null,
            "_view_module": "@jupyter-widgets/base",
            "_view_module_version": "1.2.0",
            "_view_name": "LayoutView",
            "align_content": null,
            "align_items": null,
            "align_self": null,
            "border": null,
            "bottom": null,
            "display": null,
            "flex": null,
            "flex_flow": null,
            "grid_area": null,
            "grid_auto_columns": null,
            "grid_auto_flow": null,
            "grid_auto_rows": null,
            "grid_column": null,
            "grid_gap": null,
            "grid_row": null,
            "grid_template_areas": null,
            "grid_template_columns": null,
            "grid_template_rows": null,
            "height": null,
            "justify_content": null,
            "justify_items": null,
            "left": null,
            "margin": null,
            "max_height": null,
            "max_width": null,
            "min_height": null,
            "min_width": null,
            "object_fit": null,
            "object_position": null,
            "order": null,
            "overflow": null,
            "overflow_x": null,
            "overflow_y": null,
            "padding": null,
            "right": null,
            "top": null,
            "visibility": null,
            "width": null
          }
        },
        "c26d3708015d4c52b42192c57cf998aa": {
          "model_module": "@jupyter-widgets/controls",
          "model_name": "ProgressStyleModel",
          "model_module_version": "1.5.0",
          "state": {
            "_model_module": "@jupyter-widgets/controls",
            "_model_module_version": "1.5.0",
            "_model_name": "ProgressStyleModel",
            "_view_count": null,
            "_view_module": "@jupyter-widgets/base",
            "_view_module_version": "1.2.0",
            "_view_name": "StyleView",
            "bar_color": null,
            "description_width": ""
          }
        },
        "210fa9b896a743f48f025eca95aba2ac": {
          "model_module": "@jupyter-widgets/base",
          "model_name": "LayoutModel",
          "model_module_version": "1.2.0",
          "state": {
            "_model_module": "@jupyter-widgets/base",
            "_model_module_version": "1.2.0",
            "_model_name": "LayoutModel",
            "_view_count": null,
            "_view_module": "@jupyter-widgets/base",
            "_view_module_version": "1.2.0",
            "_view_name": "LayoutView",
            "align_content": null,
            "align_items": null,
            "align_self": null,
            "border": null,
            "bottom": null,
            "display": null,
            "flex": null,
            "flex_flow": null,
            "grid_area": null,
            "grid_auto_columns": null,
            "grid_auto_flow": null,
            "grid_auto_rows": null,
            "grid_column": null,
            "grid_gap": null,
            "grid_row": null,
            "grid_template_areas": null,
            "grid_template_columns": null,
            "grid_template_rows": null,
            "height": null,
            "justify_content": null,
            "justify_items": null,
            "left": null,
            "margin": null,
            "max_height": null,
            "max_width": null,
            "min_height": null,
            "min_width": null,
            "object_fit": null,
            "object_position": null,
            "order": null,
            "overflow": null,
            "overflow_x": null,
            "overflow_y": null,
            "padding": null,
            "right": null,
            "top": null,
            "visibility": null,
            "width": null
          }
        },
        "6c2ff05067cc4907ba814da3bb90b333": {
          "model_module": "@jupyter-widgets/controls",
          "model_name": "DescriptionStyleModel",
          "model_module_version": "1.5.0",
          "state": {
            "_model_module": "@jupyter-widgets/controls",
            "_model_module_version": "1.5.0",
            "_model_name": "DescriptionStyleModel",
            "_view_count": null,
            "_view_module": "@jupyter-widgets/base",
            "_view_module_version": "1.2.0",
            "_view_name": "StyleView",
            "description_width": ""
          }
        }
      }
    }
  },
  "cells": [
    {
      "cell_type": "markdown",
      "source": [
        "# **Install face_net**"
      ],
      "metadata": {
        "id": "MfY5DD9fY8uZ"
      }
    },
    {
      "cell_type": "code",
      "execution_count": 2,
      "metadata": {
        "id": "ONBqrviP7eQ0",
        "colab": {
          "base_uri": "https://localhost:8080/"
        },
        "collapsed": true,
        "outputId": "fdd1b176-b9a4-47b2-cda0-db2fb3328dd1"
      },
      "outputs": [
        {
          "output_type": "stream",
          "name": "stdout",
          "text": [
            "Requirement already satisfied: facenet-pytorch in /usr/local/lib/python3.11/dist-packages (2.6.0)\n",
            "Requirement already satisfied: numpy<2.0.0,>=1.24.0 in /usr/local/lib/python3.11/dist-packages (from facenet-pytorch) (1.26.4)\n",
            "Requirement already satisfied: Pillow<10.3.0,>=10.2.0 in /usr/local/lib/python3.11/dist-packages (from facenet-pytorch) (10.2.0)\n",
            "Requirement already satisfied: requests<3.0.0,>=2.0.0 in /usr/local/lib/python3.11/dist-packages (from facenet-pytorch) (2.32.3)\n",
            "Requirement already satisfied: torch<2.3.0,>=2.2.0 in /usr/local/lib/python3.11/dist-packages (from facenet-pytorch) (2.2.2)\n",
            "Requirement already satisfied: torchvision<0.18.0,>=0.17.0 in /usr/local/lib/python3.11/dist-packages (from facenet-pytorch) (0.17.2)\n",
            "Requirement already satisfied: tqdm<5.0.0,>=4.0.0 in /usr/local/lib/python3.11/dist-packages (from facenet-pytorch) (4.67.1)\n",
            "Requirement already satisfied: charset-normalizer<4,>=2 in /usr/local/lib/python3.11/dist-packages (from requests<3.0.0,>=2.0.0->facenet-pytorch) (3.4.2)\n",
            "Requirement already satisfied: idna<4,>=2.5 in /usr/local/lib/python3.11/dist-packages (from requests<3.0.0,>=2.0.0->facenet-pytorch) (3.10)\n",
            "Requirement already satisfied: urllib3<3,>=1.21.1 in /usr/local/lib/python3.11/dist-packages (from requests<3.0.0,>=2.0.0->facenet-pytorch) (2.4.0)\n",
            "Requirement already satisfied: certifi>=2017.4.17 in /usr/local/lib/python3.11/dist-packages (from requests<3.0.0,>=2.0.0->facenet-pytorch) (2025.4.26)\n",
            "Requirement already satisfied: filelock in /usr/local/lib/python3.11/dist-packages (from torch<2.3.0,>=2.2.0->facenet-pytorch) (3.18.0)\n",
            "Requirement already satisfied: typing-extensions>=4.8.0 in /usr/local/lib/python3.11/dist-packages (from torch<2.3.0,>=2.2.0->facenet-pytorch) (4.13.2)\n",
            "Requirement already satisfied: sympy in /usr/local/lib/python3.11/dist-packages (from torch<2.3.0,>=2.2.0->facenet-pytorch) (1.13.1)\n",
            "Requirement already satisfied: networkx in /usr/local/lib/python3.11/dist-packages (from torch<2.3.0,>=2.2.0->facenet-pytorch) (3.5)\n",
            "Requirement already satisfied: jinja2 in /usr/local/lib/python3.11/dist-packages (from torch<2.3.0,>=2.2.0->facenet-pytorch) (3.1.6)\n",
            "Requirement already satisfied: fsspec in /usr/local/lib/python3.11/dist-packages (from torch<2.3.0,>=2.2.0->facenet-pytorch) (2025.3.2)\n",
            "Requirement already satisfied: nvidia-cuda-nvrtc-cu12==12.1.105 in /usr/local/lib/python3.11/dist-packages (from torch<2.3.0,>=2.2.0->facenet-pytorch) (12.1.105)\n",
            "Requirement already satisfied: nvidia-cuda-runtime-cu12==12.1.105 in /usr/local/lib/python3.11/dist-packages (from torch<2.3.0,>=2.2.0->facenet-pytorch) (12.1.105)\n",
            "Requirement already satisfied: nvidia-cuda-cupti-cu12==12.1.105 in /usr/local/lib/python3.11/dist-packages (from torch<2.3.0,>=2.2.0->facenet-pytorch) (12.1.105)\n",
            "Requirement already satisfied: nvidia-cudnn-cu12==8.9.2.26 in /usr/local/lib/python3.11/dist-packages (from torch<2.3.0,>=2.2.0->facenet-pytorch) (8.9.2.26)\n",
            "Requirement already satisfied: nvidia-cublas-cu12==12.1.3.1 in /usr/local/lib/python3.11/dist-packages (from torch<2.3.0,>=2.2.0->facenet-pytorch) (12.1.3.1)\n",
            "Requirement already satisfied: nvidia-cufft-cu12==11.0.2.54 in /usr/local/lib/python3.11/dist-packages (from torch<2.3.0,>=2.2.0->facenet-pytorch) (11.0.2.54)\n",
            "Requirement already satisfied: nvidia-curand-cu12==10.3.2.106 in /usr/local/lib/python3.11/dist-packages (from torch<2.3.0,>=2.2.0->facenet-pytorch) (10.3.2.106)\n",
            "Requirement already satisfied: nvidia-cusolver-cu12==11.4.5.107 in /usr/local/lib/python3.11/dist-packages (from torch<2.3.0,>=2.2.0->facenet-pytorch) (11.4.5.107)\n",
            "Requirement already satisfied: nvidia-cusparse-cu12==12.1.0.106 in /usr/local/lib/python3.11/dist-packages (from torch<2.3.0,>=2.2.0->facenet-pytorch) (12.1.0.106)\n",
            "Requirement already satisfied: nvidia-nccl-cu12==2.19.3 in /usr/local/lib/python3.11/dist-packages (from torch<2.3.0,>=2.2.0->facenet-pytorch) (2.19.3)\n",
            "Requirement already satisfied: nvidia-nvtx-cu12==12.1.105 in /usr/local/lib/python3.11/dist-packages (from torch<2.3.0,>=2.2.0->facenet-pytorch) (12.1.105)\n",
            "Requirement already satisfied: triton==2.2.0 in /usr/local/lib/python3.11/dist-packages (from torch<2.3.0,>=2.2.0->facenet-pytorch) (2.2.0)\n",
            "Requirement already satisfied: nvidia-nvjitlink-cu12 in /usr/local/lib/python3.11/dist-packages (from nvidia-cusolver-cu12==11.4.5.107->torch<2.3.0,>=2.2.0->facenet-pytorch) (12.5.82)\n",
            "Requirement already satisfied: MarkupSafe>=2.0 in /usr/local/lib/python3.11/dist-packages (from jinja2->torch<2.3.0,>=2.2.0->facenet-pytorch) (3.0.2)\n",
            "Requirement already satisfied: mpmath<1.4,>=1.1.0 in /usr/local/lib/python3.11/dist-packages (from sympy->torch<2.3.0,>=2.2.0->facenet-pytorch) (1.3.0)\n"
          ]
        }
      ],
      "source": [
        "!pip install facenet-pytorch"
      ]
    },
    {
      "cell_type": "markdown",
      "source": [
        "# Mounting Drive"
      ],
      "metadata": {
        "id": "-C_LTsavb8L7"
      }
    },
    {
      "cell_type": "code",
      "source": [
        "from google.colab import drive\n",
        "drive.mount('/content/drive')"
      ],
      "metadata": {
        "colab": {
          "base_uri": "https://localhost:8080/"
        },
        "id": "2FLDr2X9cHg5",
        "outputId": "273be63f-afb4-4ca1-e3da-29d45e8f79b0"
      },
      "execution_count": 3,
      "outputs": [
        {
          "output_type": "stream",
          "name": "stdout",
          "text": [
            "Drive already mounted at /content/drive; to attempt to forcibly remount, call drive.mount(\"/content/drive\", force_remount=True).\n"
          ]
        }
      ]
    },
    {
      "cell_type": "markdown",
      "source": [
        "# Importing libraries"
      ],
      "metadata": {
        "id": "nRIr-NkPZJi9"
      }
    },
    {
      "cell_type": "code",
      "source": [
        "import torch\n",
        "from facenet_pytorch import MTCNN, InceptionResnetV1\n",
        "from PIL import Image\n",
        "import torch.nn.functional as F"
      ],
      "metadata": {
        "id": "u2izxA2swlh4"
      },
      "execution_count": 4,
      "outputs": []
    },
    {
      "cell_type": "markdown",
      "source": [
        "# gpu/cpu"
      ],
      "metadata": {
        "id": "at7eoLF3ZVOe"
      }
    },
    {
      "cell_type": "code",
      "source": [
        "device = torch.device('cuda' if torch.cuda.is_available() else 'cpu')\n",
        "print(\"Using device:\", device)"
      ],
      "metadata": {
        "colab": {
          "base_uri": "https://localhost:8080/"
        },
        "id": "Qcg-G3_5yQlm",
        "outputId": "e6851303-98ee-4ba7-a2e6-593ed91f7793"
      },
      "execution_count": 5,
      "outputs": [
        {
          "output_type": "stream",
          "name": "stdout",
          "text": [
            "Using device: cpu\n"
          ]
        }
      ]
    },
    {
      "cell_type": "markdown",
      "source": [
        "# loading pretrained facenet"
      ],
      "metadata": {
        "id": "MnznnFI5Za4z"
      }
    },
    {
      "cell_type": "code",
      "source": [
        "mtcnn = MTCNN(image_size=160, margin=0, device=device)\n",
        "resnet = InceptionResnetV1(pretrained='vggface2').eval().to(device)"
      ],
      "metadata": {
        "colab": {
          "base_uri": "https://localhost:8080/",
          "height": 49,
          "referenced_widgets": [
            "1390a9f6f55948539e88ef46b87aca48",
            "19b009e1309840f78993f3917229553b",
            "c4cf18d421ca48a0b9ee79db49538c48",
            "d7364a4a03ef4762a6724ad59021ac01",
            "e848dc52ac7246f2b392c4bfa5cba756",
            "12a4c508a8494c6f96186e34f1d1cb3e",
            "9363d96fe5e349f88d6f175599a14761",
            "6b75a303a7434382a53ec2b7c70c18aa",
            "c26d3708015d4c52b42192c57cf998aa",
            "210fa9b896a743f48f025eca95aba2ac",
            "6c2ff05067cc4907ba814da3bb90b333"
          ]
        },
        "id": "ROtgHDM6zNOa",
        "outputId": "dc3ddb95-e89a-4481-98e6-f38bb7c79970"
      },
      "execution_count": 6,
      "outputs": [
        {
          "output_type": "display_data",
          "data": {
            "text/plain": [
              "  0%|          | 0.00/107M [00:00<?, ?B/s]"
            ],
            "application/vnd.jupyter.widget-view+json": {
              "version_major": 2,
              "version_minor": 0,
              "model_id": "1390a9f6f55948539e88ef46b87aca48"
            }
          },
          "metadata": {}
        }
      ]
    },
    {
      "cell_type": "markdown",
      "source": [
        "# utilizing the pretraied model process"
      ],
      "metadata": {
        "id": "2dOj_58JZrg3"
      }
    },
    {
      "cell_type": "code",
      "source": [
        "def extract_face(image_path):\n",
        "  #opens the images and detect faces by using mtcnn\n",
        "    img = Image.open(image_path)\n",
        "    face_tensor = mtcnn(img)\n",
        "    if face_tensor is None:\n",
        "       raise ValueError(f\"No image detected in {image_path}\")\n",
        "    return face_tensor"
      ],
      "metadata": {
        "id": "_VzUMWDRzy_v"
      },
      "execution_count": 7,
      "outputs": []
    },
    {
      "cell_type": "code",
      "source": [
        "def get_embedding(face_tensor):\n",
        "  #extracts feature vector from each image\n",
        "    face_tensor = face_tensor.unsqueeze(0).to(device)\n",
        "    embedding = resnet(face_tensor)\n",
        "    return embedding.detach().cpu()[0]"
      ],
      "metadata": {
        "id": "GHbT16gMY09_"
      },
      "execution_count": 8,
      "outputs": []
    },
    {
      "cell_type": "code",
      "source": [
        "reference_images = [\n",
        "    '/content/drive/MyDrive/walterbishop/images.jfif',\n",
        "    '/content/drive/MyDrive/walterbishop/13663-1532336916.jpg',\n",
        "    '/content/drive/MyDrive/walterbishop/HkjAj.jpg',\n",
        "    '/content/drive/MyDrive/walterbishop/YyZMr.jpg',\n",
        "    '/content/drive/MyDrive/walterbishop/fringe-john-noble-season-4.jpg',\n",
        "    '/content/drive/MyDrive/walterbishop/John-Noble-Walter-Bishop.jpg',\n",
        "]\n",
        "\n",
        "test_image_path = '/content/drive/MyDrive/walterbishop/HkjAj.jpg'\n",
        "ref_embeddings = []\n",
        "for img_path in reference_images:\n",
        "    try:\n",
        "       face = extract_face(img_path)\n",
        "       emb = get_embedding(face)\n",
        "       ref_embeddings.append(emb)\n",
        "    except Exception as e:\n",
        "       print(f\"Error processing {img_path}: {e}\")\n",
        "if not ref_embeddings:\n",
        "    raise ValueError(\"No valid reference embeddings were extracted. Please check your images.\")\n",
        "reference_embedding = torch.stack(ref_embeddings).mean(0)"
      ],
      "metadata": {
        "id": "ZQYgO7t_bnS9"
      },
      "execution_count": null,
      "outputs": []
    },
    {
      "cell_type": "code",
      "source": [
        "try:\n",
        "    test_face = extract_face(test_image_path)\n",
        "    test_embedding = get_embedding(test_face)\n",
        "    print(\"Test image processed successfully.\")\n",
        "except Exception as e:\n",
        "    raise ValueError(f\"Error processing the test image: {e}\")"
      ],
      "metadata": {
        "colab": {
          "base_uri": "https://localhost:8080/"
        },
        "id": "LkfTVpUOdPoW",
        "outputId": "483d9aa3-ed07-46e9-a8c1-43018755f480"
      },
      "execution_count": null,
      "outputs": [
        {
          "output_type": "stream",
          "name": "stdout",
          "text": [
            "Test image processed successfully.\n"
          ]
        }
      ]
    },
    {
      "cell_type": "code",
      "source": [
        "euclidean_distance = torch.norm(reference_embedding - test_embedding)\n",
        "cosine_similarity = F.cosine_similarity(reference_embedding.unsqueeze(0),\n",
        "                                        test_embedding.unsqueeze(0))[0]\n",
        "\n",
        "print(\"\\n----- Verification Results -----\")\n",
        "print(f\"Euclidean distance: {euclidean_distance.item():.4f}\")\n",
        "print(f\"Cosine similarity: {cosine_similarity.item():.4f}\")"
      ],
      "metadata": {
        "colab": {
          "base_uri": "https://localhost:8080/"
        },
        "id": "tUMYb5FTe2Uo",
        "outputId": "2ea4f0b6-ffe7-4ea3-c9b7-890a2b091774"
      },
      "execution_count": null,
      "outputs": [
        {
          "output_type": "stream",
          "name": "stdout",
          "text": [
            "\n",
            "----- Verification Results -----\n",
            "Euclidean distance: 0.5487\n",
            "Cosine similarity: 0.8370\n"
          ]
        }
      ]
    },
    {
      "cell_type": "code",
      "source": [
        "euclidean_threshold = 1.0\n",
        "cosine_threshold = 0.8"
      ],
      "metadata": {
        "id": "p-05A4Vtj9z0"
      },
      "execution_count": null,
      "outputs": []
    },
    {
      "cell_type": "code",
      "source": [
        "if euclidean_distance < euclidean_threshold:\n",
        "    print(\"Test image likely belongs to Walter Bishop (based on Euclidean distance).\")\n",
        "else:\n",
        "    print(\"Test image does not appear to belong to Walter Bishop (based on Euclidean distance).\")"
      ],
      "metadata": {
        "colab": {
          "base_uri": "https://localhost:8080/"
        },
        "id": "gg6l-_1vkHm6",
        "outputId": "c238843f-85ad-4194-8db3-c1701d2611e6"
      },
      "execution_count": null,
      "outputs": [
        {
          "output_type": "stream",
          "name": "stdout",
          "text": [
            "Test image likely belongs to Walter Bishop (based on Euclidean distance).\n"
          ]
        }
      ]
    },
    {
      "cell_type": "code",
      "source": [
        "if cosine_similarity > cosine_threshold:\n",
        "    print(\"Test image likely belongs to Walter Bishop (based on Cosine similarity).\")\n",
        "else:\n",
        "    print(\"Test image does not appear to belong to Walter Bishop (based on Cosine similarity).\")"
      ],
      "metadata": {
        "colab": {
          "base_uri": "https://localhost:8080/"
        },
        "id": "Gt-E1u3ykMUt",
        "outputId": "296b94bb-daca-4af3-b040-f5a3b1dc525c"
      },
      "execution_count": null,
      "outputs": [
        {
          "output_type": "stream",
          "name": "stdout",
          "text": [
            "Test image likely belongs to Walter Bishop (based on Cosine similarity).\n"
          ]
        }
      ]
    },
    {
      "cell_type": "markdown",
      "source": [
        "# other image"
      ],
      "metadata": {
        "id": "bNoS1403J-d_"
      }
    },
    {
      "cell_type": "code",
      "source": [
        "reference_images = [\n",
        "    '/content/drive/MyDrive/walterbishop/images.jfif',\n",
        "    '/content/drive/MyDrive/walterbishop/13663-1532336916.jpg',\n",
        "    '/content/drive/MyDrive/walterbishop/HkjAj.jpg',\n",
        "    '/content/drive/MyDrive/walterbishop/YyZMr.jpg',\n",
        "    '/content/drive/MyDrive/walterbishop/fringe-john-noble-season-4.jpg',\n",
        "    '/content/drive/MyDrive/walterbishop/John-Noble-Walter-Bishop.jpg',\n",
        "]\n",
        "test_image_path = '/content/drive/MyDrive/oliviadunham/olivia-dunham-16.jpg'\n",
        "ref_embeddings = []\n",
        "for img_path in reference_images:\n",
        "    try:\n",
        "       face = extract_face(img_path)\n",
        "       emb = get_embedding(face)\n",
        "       ref_embeddings.append(emb)\n",
        "    except Exception as e:\n",
        "       print(f\"Error processing {img_path}: {e}\")\n",
        "if not ref_embeddings:\n",
        "    raise ValueError(\"No valid reference embeddings were extracted. Please check your images.\")\n",
        "reference_embedding = torch.stack(ref_embeddings).mean(0)"
      ],
      "metadata": {
        "id": "WqWrhbcHkRgi"
      },
      "execution_count": 10,
      "outputs": []
    },
    {
      "cell_type": "code",
      "source": [
        "try:\n",
        "    test_face = extract_face(test_image_path)\n",
        "    test_embedding = get_embedding(test_face)\n",
        "    print(\"Test image processed successfully.\")\n",
        "except Exception as e:\n",
        "    raise ValueError(f\"Error processing the test image: {e}\")"
      ],
      "metadata": {
        "colab": {
          "base_uri": "https://localhost:8080/"
        },
        "id": "e84haRRzM6Js",
        "outputId": "80c5c679-40d8-47dd-c4e8-1dfb431279e9"
      },
      "execution_count": 11,
      "outputs": [
        {
          "output_type": "stream",
          "name": "stdout",
          "text": [
            "Test image processed successfully.\n"
          ]
        }
      ]
    },
    {
      "cell_type": "code",
      "source": [
        "euclidean_distance = torch.norm(reference_embedding - test_embedding)\n",
        "cosine_similarity = F.cosine_similarity(reference_embedding.unsqueeze(0),\n",
        "                                        test_embedding.unsqueeze(0))[0]\n",
        "\n",
        "print(\"\\n----- Verification Results -----\")\n",
        "print(f\"Euclidean distance: {euclidean_distance.item():.4f}\")\n",
        "print(f\"Cosine similarity: {cosine_similarity.item():.4f}\")"
      ],
      "metadata": {
        "colab": {
          "base_uri": "https://localhost:8080/"
        },
        "id": "PohTDXEAM_Yu",
        "outputId": "f0ecd5aa-84f3-476e-895b-a4e04fba4a6b"
      },
      "execution_count": 12,
      "outputs": [
        {
          "output_type": "stream",
          "name": "stdout",
          "text": [
            "\n",
            "----- Verification Results -----\n",
            "Euclidean distance: 1.4007\n",
            "Cosine similarity: -0.1090\n"
          ]
        }
      ]
    },
    {
      "cell_type": "code",
      "source": [
        "euclidean_threshold = 1.0\n",
        "cosine_threshold = 0.8"
      ],
      "metadata": {
        "id": "zTIV9NsFNSLC"
      },
      "execution_count": 13,
      "outputs": []
    },
    {
      "cell_type": "code",
      "source": [
        "if euclidean_distance < euclidean_threshold:\n",
        "    print(\"Test image likely belongs to Walter Bishop (based on Euclidean distance).\")\n",
        "else:\n",
        "    print(\"Test image does not appear to belong to Walter Bishop (based on Euclidean distance).\")"
      ],
      "metadata": {
        "colab": {
          "base_uri": "https://localhost:8080/"
        },
        "id": "YHGTW-mDNhC5",
        "outputId": "5a0fa2bf-e934-4b4d-8e55-860a9e40ccbd"
      },
      "execution_count": 14,
      "outputs": [
        {
          "output_type": "stream",
          "name": "stdout",
          "text": [
            "Test image does not appear to belong to Walter Bishop (based on Euclidean distance).\n"
          ]
        }
      ]
    },
    {
      "cell_type": "code",
      "source": [
        "if cosine_similarity > cosine_threshold:\n",
        "    print(\"Test image likely belongs to Walter Bishop (based on Cosine similarity).\")\n",
        "else:\n",
        "    print(\"Test image does not appear to belong to Walter Bishop (based on Cosine similarity).\")"
      ],
      "metadata": {
        "colab": {
          "base_uri": "https://localhost:8080/"
        },
        "id": "U2-MGUHANohT",
        "outputId": "15005ebb-ffca-4eaa-de24-a590aa310169"
      },
      "execution_count": 15,
      "outputs": [
        {
          "output_type": "stream",
          "name": "stdout",
          "text": [
            "Test image does not appear to belong to Walter Bishop (based on Cosine similarity).\n"
          ]
        }
      ]
    },
    {
      "cell_type": "code",
      "source": [],
      "metadata": {
        "id": "UccUcgdsNtcV"
      },
      "execution_count": null,
      "outputs": []
    }
  ]
}